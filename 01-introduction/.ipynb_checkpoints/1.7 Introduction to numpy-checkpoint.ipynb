{
 "cells": [
  {
   "cell_type": "markdown",
   "id": "3b2b3a34-9955-4ddc-9cb9-30f327aa8ab3",
   "metadata": {},
   "source": [
    "# 1.7 Introduction to Numpy\n",
    "plan:\n",
    "- creating arrays\n",
    "- randomly generated arrays\n",
    "- Element-wise operations\n",
    "- comparison operations\n",
    "- logical operations\n",
    "- summarizing operation"
   ]
  },
  {
   "cell_type": "code",
   "execution_count": 2,
   "id": "b83f0765-bf33-4a8d-980e-4d3ddb2f304d",
   "metadata": {},
   "outputs": [],
   "source": [
    "import numpy as np"
   ]
  },
  {
   "cell_type": "markdown",
   "id": "4792a870-15dd-461e-a715-f8f8bfd5db03",
   "metadata": {},
   "source": [
    "## Creating arrays\n"
   ]
  },
  {
   "cell_type": "code",
   "execution_count": 2,
   "id": "51e639bb-9128-4a21-b3cf-ea9a57dba43d",
   "metadata": {},
   "outputs": [
    {
     "data": {
      "text/plain": [
       "array([0., 0., 0., 0., 0., 0., 0., 0., 0., 0.])"
      ]
     },
     "execution_count": 2,
     "metadata": {},
     "output_type": "execute_result"
    }
   ],
   "source": [
    "np.zeros(10)"
   ]
  },
  {
   "cell_type": "code",
   "execution_count": 3,
   "id": "f239e7d1-dcb1-4090-8917-39842c63bd3c",
   "metadata": {},
   "outputs": [
    {
     "data": {
      "text/plain": [
       "array([1., 1., 1., 1., 1., 1., 1., 1., 1., 1.])"
      ]
     },
     "execution_count": 3,
     "metadata": {},
     "output_type": "execute_result"
    }
   ],
   "source": [
    "np.ones(10)"
   ]
  },
  {
   "cell_type": "code",
   "execution_count": 4,
   "id": "6aeef6af-5786-4d96-b0e8-d0651c5b495a",
   "metadata": {},
   "outputs": [
    {
     "data": {
      "text/plain": [
       "array([1.5, 1.5, 1.5, 1.5, 1.5, 1.5, 1.5, 1.5, 1.5, 1.5])"
      ]
     },
     "execution_count": 4,
     "metadata": {},
     "output_type": "execute_result"
    }
   ],
   "source": [
    "np.full(10,1.5)"
   ]
  },
  {
   "cell_type": "code",
   "execution_count": 5,
   "id": "1b68cee0-9b07-4a64-ac8b-3d47c75340a7",
   "metadata": {},
   "outputs": [
    {
     "data": {
      "text/plain": [
       "array([3, 4, 5, 6, 7, 8, 9])"
      ]
     },
     "execution_count": 5,
     "metadata": {},
     "output_type": "execute_result"
    }
   ],
   "source": [
    "np.arange(3,10)"
   ]
  },
  {
   "cell_type": "code",
   "execution_count": 6,
   "id": "017afd29-6825-4b8e-97a5-229d45a187e0",
   "metadata": {},
   "outputs": [
    {
     "data": {
      "text/plain": [
       "array([0. , 0.1, 0.2, 0.3, 0.4, 0.5, 0.6, 0.7, 0.8, 0.9, 1. ])"
      ]
     },
     "execution_count": 6,
     "metadata": {},
     "output_type": "execute_result"
    }
   ],
   "source": [
    "np.linspace(0,1,11)"
   ]
  },
  {
   "cell_type": "markdown",
   "id": "035b08cf-18ae-41a1-9ce2-bb7090e23b06",
   "metadata": {},
   "source": [
    "## Multi-dementional arrays"
   ]
  },
  {
   "cell_type": "code",
   "execution_count": 3,
   "id": "4ced00eb-3ddc-48f4-946a-e0f37004210d",
   "metadata": {},
   "outputs": [
    {
     "data": {
      "text/plain": [
       "array([[0., 0.],\n",
       "       [0., 0.],\n",
       "       [0., 0.],\n",
       "       [0., 0.],\n",
       "       [0., 0.]])"
      ]
     },
     "execution_count": 3,
     "metadata": {},
     "output_type": "execute_result"
    }
   ],
   "source": [
    "np.zeros((5,2))"
   ]
  },
  {
   "cell_type": "markdown",
   "id": "06ec57be-e823-475f-b94b-4c48f3a44f48",
   "metadata": {},
   "source": [
    "## Randomly generated arrays"
   ]
  },
  {
   "cell_type": "code",
   "execution_count": 8,
   "id": "6712471c-99f9-494c-88ab-ab54309812af",
   "metadata": {},
   "outputs": [
    {
     "data": {
      "text/plain": [
       "array([[0.4359949 , 0.02592623],\n",
       "       [0.54966248, 0.43532239],\n",
       "       [0.4203678 , 0.33033482],\n",
       "       [0.20464863, 0.61927097],\n",
       "       [0.29965467, 0.26682728]])"
      ]
     },
     "execution_count": 8,
     "metadata": {},
     "output_type": "execute_result"
    }
   ],
   "source": [
    "np.random.seed(2)\n",
    "np.random.rand(5,2)"
   ]
  },
  {
   "cell_type": "code",
   "execution_count": 9,
   "id": "6da41fa3-613f-4222-a976-50513da8e552",
   "metadata": {},
   "outputs": [
    {
     "data": {
      "text/plain": [
       "array([[-0.41675785, -0.05626683],\n",
       "       [-2.1361961 ,  1.64027081],\n",
       "       [-1.79343559, -0.84174737],\n",
       "       [ 0.50288142, -1.24528809],\n",
       "       [-1.05795222, -0.90900761]])"
      ]
     },
     "execution_count": 9,
     "metadata": {},
     "output_type": "execute_result"
    }
   ],
   "source": [
    "np.random.seed(2)\n",
    "np.random.randn(5,2)"
   ]
  },
  {
   "cell_type": "code",
   "execution_count": 12,
   "id": "4284076f-860f-4dd0-bfc9-d90c67ae784a",
   "metadata": {},
   "outputs": [
    {
     "data": {
      "text/plain": [
       "array([[40, 15],\n",
       "       [72, 22],\n",
       "       [43, 82],\n",
       "       [75,  7],\n",
       "       [34, 49]])"
      ]
     },
     "execution_count": 12,
     "metadata": {},
     "output_type": "execute_result"
    }
   ],
   "source": [
    "np.random.seed(2)\n",
    "np.random.randint(low=0,high=100,size=(5,2))"
   ]
  },
  {
   "cell_type": "markdown",
   "id": "af003940-2492-4eb1-8f77-801749934b0c",
   "metadata": {},
   "source": [
    "## Element-wise operations"
   ]
  },
  {
   "cell_type": "code",
   "execution_count": 14,
   "id": "6fd7a542-f7e5-4f0a-b721-2dc05e14593a",
   "metadata": {},
   "outputs": [
    {
     "data": {
      "text/plain": [
       "array([0, 1, 2, 3, 4])"
      ]
     },
     "execution_count": 14,
     "metadata": {},
     "output_type": "execute_result"
    }
   ],
   "source": [
    "a=np.arange(5)\n",
    "a"
   ]
  },
  {
   "cell_type": "code",
   "execution_count": 18,
   "id": "8f683863-c0b7-4386-add0-b275e98c8438",
   "metadata": {},
   "outputs": [],
   "source": [
    "b= (10+(a*1)) **2 /10"
   ]
  },
  {
   "cell_type": "code",
   "execution_count": 19,
   "id": "2b36cd81-423d-4bb9-8302-b1b0e6f6d299",
   "metadata": {},
   "outputs": [
    {
     "data": {
      "text/plain": [
       "array([10. , 13.1, 16.4, 19.9, 23.6])"
      ]
     },
     "execution_count": 19,
     "metadata": {},
     "output_type": "execute_result"
    }
   ],
   "source": [
    "a+b"
   ]
  },
  {
   "cell_type": "markdown",
   "id": "8f94b19d-b8aa-4902-b40e-818c623bba5a",
   "metadata": {},
   "source": [
    "## comparison operations"
   ]
  },
  {
   "cell_type": "code",
   "execution_count": 20,
   "id": "ae2f806b-e47a-4230-ad89-a8e534178ac7",
   "metadata": {},
   "outputs": [
    {
     "data": {
      "text/plain": [
       "array([False, False,  True,  True,  True])"
      ]
     },
     "execution_count": 20,
     "metadata": {},
     "output_type": "execute_result"
    }
   ],
   "source": [
    "a >=2"
   ]
  },
  {
   "cell_type": "code",
   "execution_count": 21,
   "id": "b668b121-0d75-46bf-a41d-d8602d1e2255",
   "metadata": {},
   "outputs": [
    {
     "data": {
      "text/plain": [
       "array([False, False, False, False, False])"
      ]
     },
     "execution_count": 21,
     "metadata": {},
     "output_type": "execute_result"
    }
   ],
   "source": [
    "b>a"
   ]
  },
  {
   "cell_type": "code",
   "execution_count": 24,
   "id": "afe0a319-81c9-4f7e-8b94-3f869d218134",
   "metadata": {},
   "outputs": [
    {
     "data": {
      "text/plain": [
       "array([0, 1, 2, 3, 4])"
      ]
     },
     "execution_count": 24,
     "metadata": {},
     "output_type": "execute_result"
    }
   ],
   "source": [
    "a[b>a]"
   ]
  },
  {
   "cell_type": "markdown",
   "id": "71662d3e-09c7-4d2f-9517-540b1ab9cedf",
   "metadata": {},
   "source": [
    "## Sunnarizing Operations"
   ]
  },
  {
   "cell_type": "code",
   "execution_count": 25,
   "id": "85957de3-c85b-441a-a0d5-f1e53912f16a",
   "metadata": {},
   "outputs": [
    {
     "data": {
      "text/plain": [
       "4"
      ]
     },
     "execution_count": 25,
     "metadata": {},
     "output_type": "execute_result"
    }
   ],
   "source": [
    "a.max()"
   ]
  },
  {
   "cell_type": "code",
   "execution_count": 27,
   "id": "3030adbf-73c1-436e-9677-6cf291fa698a",
   "metadata": {},
   "outputs": [
    {
     "data": {
      "text/plain": [
       "1.4142135623730951"
      ]
     },
     "execution_count": 27,
     "metadata": {},
     "output_type": "execute_result"
    }
   ],
   "source": [
    "a.std()"
   ]
  },
  {
   "cell_type": "code",
   "execution_count": null,
   "id": "518d69ee-f243-48c9-8f50-6732c6dd2289",
   "metadata": {},
   "outputs": [],
   "source": []
  }
 ],
 "metadata": {
  "kernelspec": {
   "display_name": "Python 3 (ipykernel)",
   "language": "python",
   "name": "python3"
  },
  "language_info": {
   "codemirror_mode": {
    "name": "ipython",
    "version": 3
   },
   "file_extension": ".py",
   "mimetype": "text/x-python",
   "name": "python",
   "nbconvert_exporter": "python",
   "pygments_lexer": "ipython3",
   "version": "3.10.12"
  }
 },
 "nbformat": 4,
 "nbformat_minor": 5
}
