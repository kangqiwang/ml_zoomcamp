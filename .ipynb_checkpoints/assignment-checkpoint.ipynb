{
 "cells": [
  {
   "cell_type": "markdown",
   "id": "2d1cc31e-08bc-42c0-9fb8-c2c43ee6806c",
   "metadata": {},
   "source": [
    "## Question 1"
   ]
  },
  {
   "cell_type": "code",
   "execution_count": 1,
   "id": "495470c4-fa86-439f-9ac9-51e11a078a27",
   "metadata": {},
   "outputs": [],
   "source": [
    "def success(a, b, c):\n",
    "    if c == True:\n",
    "        return b == True or (b == True and a == True)\n",
    "    else:\n",
    "        return False\n"
   ]
  },
  {
   "cell_type": "code",
   "execution_count": 2,
   "id": "cf6062df-75b4-4daa-aff1-1d3348f433a8",
   "metadata": {},
   "outputs": [
    {
     "data": {
      "text/plain": [
       "(False, False, False)"
      ]
     },
     "execution_count": 2,
     "metadata": {},
     "output_type": "execute_result"
    }
   ],
   "source": [
    "success(True,False,False) , success(False,True,False),success(False,False,True)"
   ]
  },
  {
   "cell_type": "code",
   "execution_count": 3,
   "id": "661ebd59-33df-4fea-9b0a-447770c4c00b",
   "metadata": {},
   "outputs": [
    {
     "data": {
      "text/plain": [
       "(False, True, True, False)"
      ]
     },
     "execution_count": 3,
     "metadata": {},
     "output_type": "execute_result"
    }
   ],
   "source": [
    "success(False,False,True),success(False,True,True),success(True,True,True),success(True,False,True)"
   ]
  },
  {
   "cell_type": "code",
   "execution_count": 4,
   "id": "942fad9a-72c4-4763-a695-ac56171c34f2",
   "metadata": {},
   "outputs": [],
   "source": [
    "def success(a,b,c):\n",
    "    if c==True and b==True:\n",
    "        return True\n",
    "    else:\n",
    "        return False\n",
    "        "
   ]
  },
  {
   "cell_type": "code",
   "execution_count": 5,
   "id": "7f6cf03a-ca12-4f38-9608-30d4d3fde65e",
   "metadata": {},
   "outputs": [
    {
     "data": {
      "text/plain": [
       "(False, True, True, False, False)"
      ]
     },
     "execution_count": 5,
     "metadata": {},
     "output_type": "execute_result"
    }
   ],
   "source": [
    "success(False,False,True),success(False,True,True),success(True,True,True),success(True,False,True),success(False,False,True)"
   ]
  },
  {
   "cell_type": "markdown",
   "id": "5ca1014e-3345-4b1f-801b-f61728cd3a18",
   "metadata": {},
   "source": [
    "## Question 2"
   ]
  },
  {
   "cell_type": "code",
   "execution_count": 6,
   "id": "0759c344-3872-4097-88bd-ca1623e42ff8",
   "metadata": {},
   "outputs": [
    {
     "data": {
      "text/plain": [
       "1"
      ]
     },
     "execution_count": 6,
     "metadata": {},
     "output_type": "execute_result"
    }
   ],
   "source": [
    "class One:\n",
    "    def main(self):\n",
    "        return 1\n",
    "\n",
    "class Two(One):\n",
    "    def main(self):\n",
    "        return 2\n",
    "\n",
    "class Three(Two):\n",
    "    def main(self):\n",
    "        return super(Two,self).main()\n",
    "\n",
    "c = Three()\n",
    "c.main() \n"
   ]
  },
  {
   "cell_type": "markdown",
   "id": "3fb3083c-a9fb-43e7-a738-5001b401e490",
   "metadata": {},
   "source": [
    "## Question 3"
   ]
  },
  {
   "cell_type": "code",
   "execution_count": 22,
   "id": "ed4716aa-6461-4f26-bf3b-002979a94a72",
   "metadata": {},
   "outputs": [],
   "source": [
    "from typing import Optional\n",
    "\n",
    "def my_func(value:int, destination: Optional[int] =None) -> list:\n",
    "    if destination is None:\n",
    "        return [value]\n",
    "    else:\n",
    "        destination.append(value)\n",
    "        return destination"
   ]
  },
  {
   "cell_type": "code",
   "execution_count": 23,
   "id": "10bf4364-325e-4a56-8059-7e0bb66cea13",
   "metadata": {},
   "outputs": [],
   "source": [
    "import pytest\n",
    "\n",
    "def test_list_append_func():\n",
    "    assert my_func(0) == [0]\n",
    "    my_list = []\n",
    "    assert my_func(1, my_list) == [1]\n",
    "    assert my_func(2, my_list) == [1, 2]\n",
    "\n",
    "def test_list_append_float_func():\n",
    "    \"\"\"\n",
    "    Test float as input\n",
    "    \"\"\"\n",
    "    assert my_func(2.01) == [2.01]\n",
    "\n",
    "def test_list_append_float_func():\n",
    "    \"\"\"\n",
    "    Test large number\n",
    "    \"\"\""
   ]
  },
  {
   "cell_type": "code",
   "execution_count": 29,
   "id": "d4530bff-476b-4e82-9aa8-1e8a552f10cc",
   "metadata": {},
   "outputs": [
    {
     "data": {
      "text/plain": [
       "[2.01]"
      ]
     },
     "execution_count": 29,
     "metadata": {},
     "output_type": "execute_result"
    }
   ],
   "source": [
    "my_func(2.01)"
   ]
  },
  {
   "cell_type": "markdown",
   "id": "5b923cbe-4e2b-4e61-86b1-84b2c950ace6",
   "metadata": {},
   "source": [
    "## Question 4"
   ]
  },
  {
   "cell_type": "code",
   "execution_count": 41,
   "id": "d2488974-6a00-477d-8030-2095137e8b2a",
   "metadata": {},
   "outputs": [],
   "source": [
    "\n",
    "CONST_STYLES={'color': 'black', 'size': 12, 'font': 'Arial'}\n",
    "def get_styles(existing_styles=CONST_STYLES):\n",
    "    if existing_styles == CONST_STYLES:\n",
    "        return existing_styles\n",
    "    else:\n",
    "        tem_dic=CONST_STYLES.copy()\n",
    "        tem_dic.update(existing_styles)\n",
    "        return tem_dic\n"
   ]
  },
  {
   "cell_type": "code",
   "execution_count": 42,
   "id": "76aa802d-e27d-43f8-8c49-405d52c8320b",
   "metadata": {},
   "outputs": [],
   "source": [
    "import pytest\n",
    "\n",
    "def test_get_styles():\n",
    "    expected_defaults = {'color': 'black', 'size': 12, 'font': 'Arial'}\n",
    "\n",
    "    assert get_styles() == expected_defaults\n",
    "\n",
    "    user_style = {}\n",
    "    assert user_style == {}\n",
    "    assert get_styles(user_style) == expected_defaults\n",
    "\n",
    "    user_style = {'size': 14}\n",
    "    assert user_style == {'size': 14}\n",
    "    assert get_styles(user_style) == {'color': 'black', 'size': 14, 'font': 'Arial'}\n",
    "\n",
    "    user_style = {'background': 'red'}\n",
    "    assert user_style == {'background': 'red'}\n",
    "    assert get_styles(user_style) == {'color': 'black', 'size': 12, 'font': 'Arial', 'background': 'red'}\n",
    "    \n",
    "def test_empty_get_styles():\n",
    "    \"\"\"\n",
    "    Test empty parameter\n",
    "    \"\"\"\n",
    "    assert get_styles([])==expected_defaults\n"
   ]
  },
  {
   "cell_type": "code",
   "execution_count": 43,
   "id": "59dc9925-b6ba-4c5a-b3fb-a3548a979918",
   "metadata": {},
   "outputs": [],
   "source": [
    "test_get_styles()"
   ]
  },
  {
   "cell_type": "markdown",
   "id": "ff0f1d17-4bb8-482f-9a29-d21790c6497c",
   "metadata": {},
   "source": [
    "## Question 5"
   ]
  },
  {
   "cell_type": "code",
   "execution_count": 58,
   "id": "e4061646-4a64-428b-8862-8187799928fa",
   "metadata": {},
   "outputs": [],
   "source": [
    "class Myinstance():\n",
    "    def __repr__(self) ->str:\n",
    "        return \"MyClass\""
   ]
  },
  {
   "cell_type": "code",
   "execution_count": 59,
   "id": "ea80b090-680a-40b6-8d6c-41a3862e2c54",
   "metadata": {},
   "outputs": [],
   "source": [
    "my_instance= Myinstance()"
   ]
  },
  {
   "cell_type": "code",
   "execution_count": 60,
   "id": "1b4d2e0a-3fa6-4eb3-9859-2d435ba8c54a",
   "metadata": {},
   "outputs": [
    {
     "data": {
      "text/plain": [
       "MyClass"
      ]
     },
     "execution_count": 60,
     "metadata": {},
     "output_type": "execute_result"
    }
   ],
   "source": [
    "my_instance"
   ]
  },
  {
   "cell_type": "code",
   "execution_count": null,
   "id": "acbfa912-b80a-4567-89dc-896611e94115",
   "metadata": {},
   "outputs": [],
   "source": [
    "\"\"\"2 __repr__\"\"\""
   ]
  },
  {
   "cell_type": "markdown",
   "id": "7224a6fa-7fad-4cca-b65d-3d98c512a83d",
   "metadata": {},
   "source": [
    "## Question 6"
   ]
  },
  {
   "cell_type": "code",
   "execution_count": 61,
   "id": "c398077a-2ac2-424a-9b26-f0bd51c04be9",
   "metadata": {},
   "outputs": [
    {
     "data": {
      "text/plain": [
       "'2'"
      ]
     },
     "execution_count": 61,
     "metadata": {},
     "output_type": "execute_result"
    }
   ],
   "source": [
    "\"\"\"2\"\"\""
   ]
  },
  {
   "cell_type": "markdown",
   "id": "31aead2a-c4b2-4c1b-8de9-da59725eaec1",
   "metadata": {},
   "source": [
    "## Question 7"
   ]
  },
  {
   "cell_type": "code",
   "execution_count": 143,
   "id": "c628b112-c0a7-4ab0-85a5-86ffa0a4ef4e",
   "metadata": {},
   "outputs": [],
   "source": [
    "import pathlib\n",
    "\n",
    "def save_file(name, data, file_type='.txt'):\n",
    "    file_path = pathlib.Path(name).with_suffix(file_type)\n",
    "    print(file_path)\n",
    "    with file_path.open('wb' if type(data) == bytes else  'w') as file_handle:\n",
    "        file_handle.write(data)\n",
    "    file_handle.close()"
   ]
  },
  {
   "cell_type": "code",
   "execution_count": 144,
   "id": "c16c5e26-e370-4b6b-8955-aaee712c0da2",
   "metadata": {},
   "outputs": [],
   "source": [
    "import pytest\n",
    "import os\n",
    "import tempfile\n",
    "\n",
    "class TestFile(object):\n",
    " \n",
    "    def test_save_file_text(self,tmp_path):\n",
    "        \"\"\"\n",
    "        test save_file \n",
    "        \"\"\"\n",
    "        f1 = tmp_path /\"temdir\"\n",
    "        f1.parent.mkdir()\n",
    "        f1.touch()\n",
    "        f1.write_text(\"text to myfile\")\n",
    "        data = b\"This is a test\"\n",
    "        save_file(test_path,data)\n",
    "        assert f1.read_text() == \"text to myfile\" "
   ]
  },
  {
   "cell_type": "code",
   "execution_count": 146,
   "id": "85950922-7d4e-48c3-a320-d914d4497d06",
   "metadata": {},
   "outputs": [
    {
     "name": "stdout",
     "output_type": "stream",
     "text": [
      "tkangekangskangt\n",
      "tkangekangskangt.txt\n"
     ]
    },
    {
     "ename": "AttributeError",
     "evalue": "'str' object has no attribute 'read'",
     "output_type": "error",
     "traceback": [
      "\u001b[0;31m---------------------------------------------------------------------------\u001b[0m",
      "\u001b[0;31mAttributeError\u001b[0m                            Traceback (most recent call last)",
      "Cell \u001b[0;32mIn[146], line 2\u001b[0m\n\u001b[1;32m      1\u001b[0m testfile\u001b[38;5;241m=\u001b[39mTestFile()\n\u001b[0;32m----> 2\u001b[0m \u001b[43mtestfile\u001b[49m\u001b[38;5;241;43m.\u001b[39;49m\u001b[43mtest_save_file_text\u001b[49m\u001b[43m(\u001b[49m\u001b[38;5;124;43m\"\u001b[39;49m\u001b[38;5;124;43mkang\u001b[39;49m\u001b[38;5;124;43m\"\u001b[39;49m\u001b[43m)\u001b[49m\n",
      "Cell \u001b[0;32mIn[144], line 15\u001b[0m, in \u001b[0;36mTestFile.test_save_file_text\u001b[0;34m(self, tmpdir)\u001b[0m\n\u001b[1;32m     13\u001b[0m data \u001b[38;5;241m=\u001b[39m \u001b[38;5;124mb\u001b[39m\u001b[38;5;124m\"\u001b[39m\u001b[38;5;124mThis is a test\u001b[39m\u001b[38;5;124m\"\u001b[39m\n\u001b[1;32m     14\u001b[0m save_file(test_path,data)\n\u001b[0;32m---> 15\u001b[0m \u001b[38;5;28;01massert\u001b[39;00m \u001b[43mtest_path\u001b[49m\u001b[38;5;241;43m.\u001b[39;49m\u001b[43mread\u001b[49m()\u001b[38;5;241m==\u001b[39m\u001b[38;5;124m\"\u001b[39m\u001b[38;5;124mThis is a test\u001b[39m\u001b[38;5;124m\"\u001b[39m\n",
      "\u001b[0;31mAttributeError\u001b[0m: 'str' object has no attribute 'read'"
     ]
    }
   ],
   "source": [
    "testfile=TestFile()\n",
    "testfile.test_save_file_text(\"kang\")"
   ]
  },
  {
   "cell_type": "code",
   "execution_count": null,
   "id": "a5455f98-f1bf-4427-9cd6-2813b9a9d547",
   "metadata": {},
   "outputs": [],
   "source": [
    "## Question 8 \n",
    "\n",
    "import foo  # fictional third party lib\n",
    "\n",
    "results = {\n",
    "    'John': [9, 5, 11, 4],\n",
    "    'Jane': [6, 3, 9, 12]\n",
    "}\n",
    "\n",
    "for name in results:\n",
    "    scores = results[name]\n",
    "    for i in range(0, len(scores)):\n",
    "        score = scores[i]\n",
    "        has_passed = foo.is_pass(score)\n",
    "        if has_passed is True:\n",
    "            foo.submit(name, score)\n"
   ]
  }
 ],
 "metadata": {
  "kernelspec": {
   "display_name": "Python 3 (ipykernel)",
   "language": "python",
   "name": "python3"
  },
  "language_info": {
   "codemirror_mode": {
    "name": "ipython",
    "version": 3
   },
   "file_extension": ".py",
   "mimetype": "text/x-python",
   "name": "python",
   "nbconvert_exporter": "python",
   "pygments_lexer": "ipython3",
   "version": "3.10.12"
  }
 },
 "nbformat": 4,
 "nbformat_minor": 5
}
